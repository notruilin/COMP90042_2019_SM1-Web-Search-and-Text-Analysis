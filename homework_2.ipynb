{
 "cells": [
  {
   "cell_type": "markdown",
   "metadata": {
    "deletable": true,
    "editable": true
   },
   "source": [
    "# Homework 2: Word Similarity"
   ]
  },
  {
   "cell_type": "markdown",
   "metadata": {
    "collapsed": true,
    "deletable": true,
    "editable": true
   },
   "source": [
    "Student Name: Ruilin Liu\n",
    "\n",
    "Student ID: 871076"
   ]
  },
  {
   "cell_type": "markdown",
   "metadata": {
    "deletable": true,
    "editable": true
   },
   "source": [
    "## General info"
   ]
  },
  {
   "cell_type": "markdown",
   "metadata": {
    "deletable": true,
    "editable": true
   },
   "source": [
    "<b>Due date</b>: Thursday, 18 Apr 2019 4pm\n",
    "\n",
    "<b>Submission method</b>: see LMS\n",
    "\n",
    "<b>Submission materials</b>: completed copy of this iPython notebook\n",
    "\n",
    "<b>Late submissions</b>: -20% per day\n",
    "\n",
    "<b>Marks</b>: 7% of mark for class (with 6% on correctness + 1% on quality and efficiency of your code)\n",
    "\n",
    "<b>Materials</b>: See the main class LMS page for information on the basic setup required for this class, including an iPython notebook viewer and the python packages NLTK, Numpy, Scipy, Matplotlib and Scikit-Learn. In particular, if you are not using a lab computer which already has it installed, we recommend installing all the data for NLTK, since you will need various parts of it to complete this assignment. You can also use any Python built-in packages, but do not use any other 3rd party packages; if your iPython notebook doesn't run on the marker's machine, you will lose marks. <b> You should use Python 3</b>. \n",
    "\n",
    "To familiarize yourself with NLTK, here is a free online book:  Steven Bird, Ewan Klein, and Edward Loper (2009). <a href=http://nltk.org/book>Natural Language Processing with Python</a>. O'Reilly Media Inc. You may also consult the <a href=https://www.nltk.org/api/nltk.html>NLTK API</a>.\n",
    "\n",
    "<b>Evaluation</b>: Your iPython notebook should run end-to-end without any errors in a reasonable amount of time, and you must follow all instructions provided below, including specific implementation requirements and instructions for what needs to be printed (please avoid printing output we don't ask for). You should edit the sections below where requested, but leave the rest of the code as is. You should leave the output from running your code in the iPython notebook you submit, to assist with marking. The amount each section is worth is given in parenthesis after the instructions. \n",
    "\n",
    "You will be marked not only on the correctness of your methods, but also the quality and efficency of your code: in particular, you should be careful to use Python built-in functions and operators when appropriate and pick descriptive variable names that adhere to <a href=\"https://www.python.org/dev/peps/pep-0008/\">Python style requirements</a>. If you think it might be unclear what you are doing, you should comment your code to help the marker make sense of it.\n",
    "\n",
    "<b>Updates</b>: Any major changes to the assignment will be announced via LMS. Minor changes and clarifications will be announced in the forum on LMS, we recommend you check the forum regularly.\n",
    "\n",
    "<b>Academic Misconduct</b>: For most people, collaboration will form a natural part of the undertaking of this homework, and we encourge you to discuss it in general terms with other students. However, this ultimately is still an individual task, and so reuse of code or other instances of clear influence will be considered cheating. We will be checking submissions for originality and will invoke the University’s <a href=\"http://academichonesty.unimelb.edu.au/policy.html\">Academic Misconduct policy</a> where inappropriate levels of collusion or plagiarism are deemed to have taken place."
   ]
  },
  {
   "cell_type": "markdown",
   "metadata": {
    "deletable": true,
    "editable": true
   },
   "source": [
    "## Overview"
   ]
  },
  {
   "cell_type": "markdown",
   "metadata": {
    "deletable": true,
    "editable": true
   },
   "source": [
    "In this homework, you'll be quantifying the similarity between pairs of words of a dataset using different methods with the word co-occurrence in the Brown corpus and synset structure of WordNet. Firstly, you will preprocess the dataset to filter out the rare and ambiguous words. Secondly, you will calculate the similarity scores for pairs of words in the filtered dateset using Lin similarity, NPMI and LSA. Lastly, you will quantify how well these methods work by comparing to a human annotated gold-standard."
   ]
  },
  {
   "cell_type": "markdown",
   "metadata": {
    "deletable": true,
    "editable": true
   },
   "source": [
    "## 1. Preprocessing (2 marks)"
   ]
  },
  {
   "cell_type": "markdown",
   "metadata": {
    "collapsed": true,
    "deletable": true,
    "editable": true
   },
   "source": [
    "<b>Instructions</b>: For this homework we will be comparing our methods against a popular dataset of word similarities called <a href=\"http://www.cs.technion.ac.il/~gabr/resources/data/wordsim353/\">Similarity-353</a>. You need to first obtain this dataset, which is available on LMS. The file we will be using is called *set1.tab*. Make sure you save this in the same folder as the notebook.  Except for the header (which should be stripped out), the file is tab formated with the first two columns corresponding to two words, and the third column representing a human-annotated similarity between the two words. <b>You should ignore the subsequent columns</b>.\n",
    "\n",
    "Here shows the first six lines of the file:\n",
    "\n",
    "```\n",
    "Word 1\tWord 2\tHuman (mean)\t1\t2\t3\t4\t5\t6\t7\t8\t9\t10\t11\t12\t13\t\n",
    "love\tsex\t6.77\t9\t6\t8\t8\t7\t8\t8\t4\t7\t2\t6\t7\t8\t\n",
    "tiger\tcat\t7.35\t9\t7\t8\t7\t8\t9\t8.5\t5\t6\t9\t7\t5\t7\t\n",
    "tiger\ttiger\t10.00\t10\t10\t10\t10\t10\t10\t10\t10\t10\t10\t10\t10\t10\t\n",
    "book\tpaper\t7.46\t8\t8\t7\t7\t8\t9\t7\t6\t7\t8\t9\t4\t9\t\n",
    "computer\tkeyboard\t7.62\t8\t7\t9\t9\t8\t8\t7\t7\t6\t8\t10\t3\t9\t\n",
    "```\n",
    "    \n",
    "You should load this file into a Python dictionary (NOTE: in Python, tuples of strings, i.e. (\"tiger\",\"cat\") can serve as the keys of a dictionary to map to their human-annotated similarity). This dataset contains many rare words: we need to filter this dataset in order for it to be better suited to the resources we will use in this assignment. So your first goal is to filter this dataset to generate a smaller test set where you will evaluate your word similarity methods.\n",
    "\n",
    "The first filtering is based on document frequencies in the Brown corpus, in order to remove rare words. In this homework, we will be treating the paragraphs of the Brown corpus as our \"documents\". You can iterate over them by using the `paras` method of the corpus reader. You should remove tokens that are not alphabetic. Tokens should be lower-cased and lemmatized. Now calculate document frequencies for each word type, and use this to remove from your word similarity data any word pairs where at least one of the two words has a document frequency of less than 8 in this corpus.\n",
    "\n",
    "For this part, you should store all the word pair and similarity mappings in your filtered test set in a dictionary called *filtered_gold_standard*. You may check the section, <i>\"For your testing\"</i>, below for the expected *filtered_gold_standard*.\n",
    "\n",
    "(1 mark)"
   ]
  },
  {
   "cell_type": "code",
   "execution_count": 2,
   "metadata": {
    "collapsed": false,
    "deletable": true,
    "editable": true,
    "scrolled": true
   },
   "outputs": [
    {
     "name": "stdout",
     "output_type": "stream",
     "text": [
      "[nltk_data] Downloading package brown to /Users/ruilin/nltk_data...\n",
      "[nltk_data]   Package brown is already up-to-date!\n",
      "[nltk_data] Downloading package wordnet to /Users/ruilin/nltk_data...\n",
      "[nltk_data]   Package wordnet is already up-to-date!\n",
      "94\n",
      "{('bread', 'butter'): 6.19, ('precedent', 'example'): 5.85, ('precedent', 'information'): 3.85, ('stock', 'live'): 3.73, ('tiger', 'zoo'): 5.87, ('tiger', 'organism'): 4.77, ('company', 'stock'): 7.08, ('money', 'dollar'): 8.42, ('noon', 'string'): 0.54, ('cup', 'liquid'): 5.9, ('drink', 'mouth'): 5.96, ('love', 'sex'): 6.77, ('book', 'paper'): 7.46, ('forest', 'graveyard'): 1.85, ('money', 'deposit'): 7.73, ('bird', 'cock'): 7.1, ('movie', 'theater'): 7.92, ('brother', 'monk'): 6.27, ('money', 'currency'): 9.04, ('baby', 'mother'): 7.85, ('cup', 'food'): 5.0, ('smart', 'student'): 4.62, ('cup', 'entity'): 2.15, ('money', 'possession'): 7.29, ('book', 'library'): 7.46, ('psychology', 'health'): 7.23, ('money', 'bank'): 8.5, ('tiger', 'animal'): 7.0, ('psychology', 'anxiety'): 7.0, ('monk', 'slave'): 0.92, ('psychology', 'fear'): 6.85, ('smart', 'stupid'): 5.81, ('food', 'fruit'): 7.52, ('money', 'operation'): 3.31, ('cup', 'drink'): 7.25, ('coast', 'shore'): 9.1, ('precedent', 'collection'): 2.5, ('stock', 'market'): 8.08, ('tool', 'implement'): 6.46, ('drink', 'mother'): 2.65, ('psychology', 'depression'): 7.42, ('tiger', 'tiger'): 10.0, ('journey', 'voyage'): 9.29, ('money', 'property'): 7.57, ('journey', 'car'): 5.85, ('movie', 'critic'): 6.73, ('stock', 'egg'): 1.81, ('planet', 'space'): 7.92, ('chord', 'smile'): 0.54, ('television', 'radio'): 6.77, ('doctor', 'nurse'): 7.0, ('plane', 'car'): 5.77, ('drug', 'abuse'): 6.85, ('king', 'queen'): 8.58, ('car', 'automobile'): 8.94, ('train', 'car'): 6.31, ('planet', 'star'): 8.45, ('space', 'chemistry'): 4.88, ('professor', 'doctor'): 6.62, ('planet', 'galaxy'): 8.11, ('stock', 'life'): 0.92, ('coast', 'forest'): 3.15, ('money', 'cash'): 9.08, ('football', 'basketball'): 6.81, ('precedent', 'law'): 6.65, ('drink', 'ear'): 1.31, ('cup', 'substance'): 1.92, ('money', 'wealth'): 8.27, ('planet', 'moon'): 8.08, ('football', 'tennis'): 6.63, ('coast', 'hill'): 4.38, ('tennis', 'racket'): 7.56, ('alcohol', 'chemistry'): 5.54, ('law', 'lawyer'): 8.38, ('tiger', 'cat'): 7.35, ('telephone', 'communication'): 7.5, ('cup', 'coffee'): 6.58, ('psychology', 'mind'): 7.69, ('drink', 'car'): 3.04, ('bank', 'money'): 8.12, ('cup', 'article'): 2.4, ('movie', 'star'): 7.38, ('psychology', 'doctor'): 6.42, ('student', 'professor'): 6.81, ('precedent', 'group'): 1.77, ('psychology', 'science'): 6.71, ('holy', 'sex'): 1.62, ('cup', 'object'): 3.69, ('planet', 'sun'): 8.02, ('bishop', 'rabbi'): 6.69, ('wood', 'forest'): 7.73, ('drink', 'eat'): 6.87, ('psychology', 'discipline'): 5.58, ('stock', 'phone'): 1.62}\n"
     ]
    }
   ],
   "source": [
    "import nltk\n",
    "from nltk.corpus import brown\n",
    "from nltk.corpus import wordnet\n",
    "\n",
    "nltk.download(\"brown\")\n",
    "nltk.download(\"wordnet\")\n",
    "\n",
    "# filtered_gold_standard stores the word pairs and their human-annotated similarity in your filtered test set\n",
    "filtered_gold_standard = {}\n",
    "\n",
    "###\n",
    "# Your answer BEGINS HERE\n",
    "###\n",
    "lemmatizer = nltk.stem.wordnet.WordNetLemmatizer()\n",
    "def lemmatize(word):\n",
    "    lemma = lemmatizer.lemmatize(word,'v')\n",
    "    if lemma == word:\n",
    "        lemma = lemmatizer.lemmatize(word,'n')\n",
    "    return lemma\n",
    "\n",
    "with open(\"set1.tab\") as file:\n",
    "    next(file)\n",
    "    for line in file:\n",
    "        strings = line.split(\"\\t\")\n",
    "        filtered_gold_standard[(strings[0], strings[1])] = float(strings[2])\n",
    "doc_freqs = {}\n",
    "for para in brown.paras():\n",
    "    processed_para_set = set()\n",
    "    for sentence in para:\n",
    "        for word in sentence:\n",
    "            if word.isalpha():\n",
    "                word = lemmatize(word.lower())\n",
    "                processed_para_set.add(word)\n",
    "    for word in processed_para_set:\n",
    "        doc_freqs[word] = doc_freqs.get(word, 0) + 1\n",
    "for pair in list(filtered_gold_standard):\n",
    "    if doc_freqs.get(pair[0],0) < 8 or doc_freqs.get(pair[1],0) < 8:\n",
    "        filtered_gold_standard.pop(pair, None)\n",
    "###\n",
    "# Your answer ENDS HERE\n",
    "###\n",
    "\n",
    "print(len(filtered_gold_standard))\n",
    "print(filtered_gold_standard)\n"
   ]
  },
  {
   "cell_type": "markdown",
   "metadata": {
    "deletable": true,
    "editable": true
   },
   "source": [
    "<b>For your testing: </b>"
   ]
  },
  {
   "cell_type": "code",
   "execution_count": 3,
   "metadata": {
    "collapsed": true,
    "deletable": true,
    "editable": true
   },
   "outputs": [],
   "source": [
    "assert(len(filtered_gold_standard) > 50 and len(filtered_gold_standard) < 100)"
   ]
  },
  {
   "cell_type": "code",
   "execution_count": 4,
   "metadata": {
    "collapsed": true,
    "deletable": true,
    "editable": true
   },
   "outputs": [],
   "source": [
    "assert(filtered_gold_standard[('love', 'sex')] == 6.77)"
   ]
  },
  {
   "cell_type": "markdown",
   "metadata": {
    "deletable": true,
    "editable": true
   },
   "source": [
    "<b>Instructions</b>: Here, you apply the second filtering. The second filtering is based on words with highly ambiguous senses and involves using the NLTK interface to WordNet. Here, you should remove any words which do not have a *single primary sense*. We define single primary sense here as either a) having only one sense (i.e. only one synset), or b) where the count (as provided by the WordNet `count()` method for the lemmas associated with a synset) of the most common sense is at least 4 times larger than the next most common sense. Note that a synset can be associated with multiple lemmas. You should only consider the count of your lemma. Also, you should remove any words where the primary sense is not a noun (this information is also in the synset). Store the synset corresponding to this primary sense in a dictionary for use in the next section. Given this definition, remove the word pairs from the test set where at least one of the words does not meet the above criteria.\n",
    "\n",
    "When you have applied the two filtering steps, you should store all the word pair and similarity mappings in your filtered test set in a dictionary called *final_gold_standard*. You may check the section, <i>\"For your testing\"</i>, below for the expected *final_gold_standard*.\n",
    "\n",
    "(1 mark)"
   ]
  },
  {
   "cell_type": "code",
   "execution_count": 5,
   "metadata": {
    "collapsed": false,
    "deletable": true,
    "editable": true,
    "scrolled": false
   },
   "outputs": [
    {
     "name": "stdout",
     "output_type": "stream",
     "text": [
      "26\n",
      "{('planet', 'moon'): 8.08, ('bread', 'butter'): 6.19, ('king', 'queen'): 8.58, ('journey', 'car'): 5.85, ('stock', 'egg'): 1.81, ('psychology', 'health'): 7.23, ('psychology', 'doctor'): 6.42, ('car', 'automobile'): 8.94, ('monk', 'slave'): 0.92, ('coast', 'forest'): 3.15, ('baby', 'mother'): 7.85, ('student', 'professor'): 6.81, ('professor', 'doctor'): 6.62, ('psychology', 'science'): 6.71, ('coast', 'shore'): 9.1, ('forest', 'graveyard'): 1.85, ('money', 'cash'): 9.08, ('bishop', 'rabbi'): 6.69, ('psychology', 'mind'): 7.69, ('football', 'basketball'): 6.81, ('brother', 'monk'): 6.27, ('coast', 'hill'): 4.38, ('alcohol', 'chemistry'): 5.54, ('journey', 'voyage'): 9.29, ('football', 'tennis'): 6.63, ('planet', 'galaxy'): 8.11}\n"
     ]
    }
   ],
   "source": [
    "# final_gold_standard stores the word pairs and their human-annotated similarity in your final filtered test set\n",
    "final_gold_standard = {}\n",
    "\n",
    "###\n",
    "# Your answer BEGINS HERE\n",
    "###\n",
    "def get_sense_count(synset, word):\n",
    "    for lemma in synset.lemmas():\n",
    "        if lemma.name().lower() == word.lower():\n",
    "            return lemma.count()\n",
    "\n",
    "# Return the synset with the most common sense except synset.name() == exc\n",
    "def get_most_common_sense_except(word, exc):\n",
    "    most_common = None\n",
    "    max_count = -1\n",
    "    for synset in wordnet.synsets(word):\n",
    "        if synset.name() == exc:\n",
    "            continue\n",
    "        count = get_sense_count(synset, word)\n",
    "        if max_count < count:\n",
    "            max_count = count\n",
    "            most_common = synset\n",
    "    return most_common\n",
    "\n",
    "words = set()\n",
    "for pair in filtered_gold_standard:\n",
    "    words.add(pair[0])\n",
    "    words.add(pair[1])\n",
    "\n",
    "primary_sense = {}\n",
    "for word in words:\n",
    "    most_common = get_most_common_sense_except(word, \"\")\n",
    "    if most_common.pos() != \"n\":\n",
    "        continue\n",
    "    second_common = get_most_common_sense_except(word, most_common.name())\n",
    "    if second_common is None or get_sense_count(most_common, word) >= get_sense_count(second_common, word) * 4:\n",
    "        primary_sense[word] = most_common\n",
    "\n",
    "for pair in filtered_gold_standard:\n",
    "    if pair[0] in primary_sense and pair[1] in primary_sense:\n",
    "        final_gold_standard[pair] = filtered_gold_standard[pair]\n",
    "###\n",
    "# Your answer ENDS HERE\n",
    "###\n",
    "\n",
    "print(len(final_gold_standard))\n",
    "print(final_gold_standard)"
   ]
  },
  {
   "cell_type": "markdown",
   "metadata": {
    "deletable": true,
    "editable": true
   },
   "source": [
    "<b>For your testing:</b>"
   ]
  },
  {
   "cell_type": "code",
   "execution_count": 6,
   "metadata": {
    "collapsed": true,
    "deletable": true,
    "editable": true
   },
   "outputs": [],
   "source": [
    "assert(len(final_gold_standard) > 10 and len(final_gold_standard) < 40)"
   ]
  },
  {
   "cell_type": "code",
   "execution_count": 7,
   "metadata": {
    "collapsed": true,
    "deletable": true,
    "editable": true
   },
   "outputs": [],
   "source": [
    "assert(final_gold_standard[('professor', 'doctor')] == 6.62)"
   ]
  },
  {
   "cell_type": "markdown",
   "metadata": {
    "deletable": true,
    "editable": true
   },
   "source": [
    "## 2. Word similiarity scores with Lin similarity, NPMI and LSA (3 marks)"
   ]
  },
  {
   "cell_type": "markdown",
   "metadata": {
    "deletable": true,
    "editable": true
   },
   "source": [
    "<b>Instructions</b>: Now you will create several dictionaries with similarity scores for pairs of words in your test set derived using the techniques discussed in class. The first of these is the Lin similarity for your word pairs using the information content of the Brown corpus, which you should calculate using the primary sense for each word derived above. You can use the built-in method included in the NLTK interface, you don't have to implement your own. \n",
    "\n",
    "When you're done, you should store the word pair and similarity mappings in a dictionary called *lin_similarities*. You may check the section, <i>\"For your testing\"</i>, below for the expected *lin_similarities*. \n",
    "\n",
    "(1 mark)"
   ]
  },
  {
   "cell_type": "code",
   "execution_count": 8,
   "metadata": {
    "collapsed": false,
    "deletable": true,
    "editable": true,
    "scrolled": true
   },
   "outputs": [
    {
     "name": "stdout",
     "output_type": "stream",
     "text": [
      "[nltk_data] Downloading package wordnet_ic to\n",
      "[nltk_data]     /Users/ruilin/nltk_data...\n",
      "[nltk_data]   Package wordnet_ic is already up-to-date!\n",
      "{('planet', 'moon'): 0.7808882364067532, ('bread', 'butter'): 0.711420490146294, ('king', 'queen'): 0.25872135992145145, ('journey', 'car'): -0.0, ('stock', 'egg'): -0.0, ('psychology', 'health'): 0.06004979886905243, ('psychology', 'doctor'): -0.0, ('car', 'automobile'): 1.0, ('monk', 'slave'): 0.2543108201944307, ('coast', 'forest'): -0.0, ('student', 'professor'): 0.26208607023317687, ('professor', 'doctor'): 0.7036526610448273, ('planet', 'galaxy'): -0.0, ('psychology', 'science'): 0.8474590505736942, ('football', 'tennis'): 0.7699955045932811, ('coast', 'shore'): 0.9632173804623256, ('forest', 'graveyard'): -0.0, ('money', 'cash'): 0.7888839126424345, ('psychology', 'mind'): 0.304017384194818, ('football', 'basketball'): 0.7536025025710653, ('brother', 'monk'): 0.24862817480738675, ('bishop', 'rabbi'): 0.6655650900427844, ('alcohol', 'chemistry'): 0.062235427146896456, ('journey', 'voyage'): 0.6969176573027711, ('baby', 'mother'): 0.6315913189894092, ('coast', 'hill'): 0.5991131628821826}\n"
     ]
    }
   ],
   "source": [
    "from nltk.corpus import wordnet_ic\n",
    "nltk.download('wordnet_ic')\n",
    "\n",
    "# lin_similarities stores the word pair and Lin similarity mappings\n",
    "lin_similarities = {}\n",
    "\n",
    "###\n",
    "# Your answer BEGINS HERE\n",
    "###\n",
    "brown_ic = wordnet_ic.ic('ic-brown.dat')\n",
    "for pair in final_gold_standard:\n",
    "    lin_similarities[pair] = primary_sense[pair[0]].lin_similarity(primary_sense[pair[1]], brown_ic)\n",
    "###\n",
    "# Your answer ENDS HERE\n",
    "###\n",
    "\n",
    "print(lin_similarities)"
   ]
  },
  {
   "cell_type": "markdown",
   "metadata": {
    "deletable": true,
    "editable": true
   },
   "source": [
    "<b>For your testing:</b>"
   ]
  },
  {
   "cell_type": "code",
   "execution_count": 9,
   "metadata": {
    "collapsed": true,
    "deletable": true,
    "editable": true
   },
   "outputs": [],
   "source": [
    "assert(lin_similarities[('professor', 'doctor')] > 0.5 and lin_similarities[('professor', 'doctor')] < 1)"
   ]
  },
  {
   "cell_type": "markdown",
   "metadata": {
    "deletable": true,
    "editable": true
   },
   "source": [
    "**Instructions:** Next, you will calculate Normalized PMI (NPMI) for your word pairs using word frequency derived from the Brown.\n",
    "\n",
    "PMI is defined as:\n",
    "\n",
    "\\begin{equation*}\n",
    "PMI = \\log_2\\left(\\frac{p(x,y)}{p(x)p(y)}\\right)\n",
    "\\end{equation*}\n",
    "\n",
    "where\n",
    "\n",
    "\\begin{equation*}\n",
    "p(x,y) = \\frac{\\text{Number of paragraphs with the co-occurrence of x and y}}{\\sum_i \\text{Number of word types in paragraph}_i}\n",
    "\\end{equation*}\n",
    "\n",
    "\\begin{equation*}\n",
    "p(x) = \\frac{\\text{Number of paragraphs with the occurrence of x}}{\\sum_i \\text{Number of word types in paragraph}_i}\n",
    "\\end{equation*}\n",
    "\n",
    "\\begin{equation*}\n",
    "p(y) = \\frac{\\text{Number of paragraphs with the occurrence of y}}{\\sum_i \\text{Number of word types in paragraph}_i}\n",
    "\\end{equation*}\n",
    "\n",
    "with the sum over $i$ ranging over all paragraphs. Note that there are other ways PMI could be formulated.\n",
    "\n",
    "NPMI is defined as:\n",
    "\n",
    "\\begin{equation*}\n",
    "NPMI = \\frac{PMI}{-\\log_2(p(x,y))} = \\frac{\\log_2(p(x)p(y))}{\\log_2(p(x,y))} - 1\n",
    "\\end{equation*}\n",
    "\n",
    "Thus, when there is no co-occurrence, NPMI is -1. NPMI is normalized between [-1, +1].\n",
    "\n",
    "You should use the same set up as you did to calculate document frequency above: paragraphs as documents, lemmatized, lower-cased, and with term frequency information removed by conversion to Python sets. You need to use the basic method for calculating PMI introduced in class (and also in the reading) which is appropriate for any possible definition of co-occurrence (here, there is co-occurrence when a word pair appears in the same paragraph), but you should only calculate PMI for the words in your test set. You must avoid building the entire co-occurrence matrix, instead you should keeping track of the sums you need for the probabilities as you go along. \n",
    "\n",
    "When you have calculated NPMI for all the pairs, you should store the word pair and NPMI-similarity mappings in a dictionary called *NPMI_similarities*. You may check the section, <i>\"For your testing\"</i>, below for the expected *NPMI_similarities*. \n",
    "\n",
    "(1 mark)"
   ]
  },
  {
   "cell_type": "code",
   "execution_count": 25,
   "metadata": {
    "collapsed": false,
    "deletable": true,
    "editable": true,
    "scrolled": false
   },
   "outputs": [
    {
     "name": "stdout",
     "output_type": "stream",
     "text": [
      "{('planet', 'moon'): 0.6580006162323315, ('bread', 'butter'): 0.6531272737497535, ('king', 'queen'): 0.4181407297139579, ('journey', 'car'): -1, ('stock', 'egg'): 0.3685128922213745, ('psychology', 'health'): -1, ('psychology', 'doctor'): 0.46132815837264096, ('car', 'automobile'): 0.5430334549802613, ('monk', 'slave'): -1, ('coast', 'forest'): 0.45787396913892864, ('student', 'professor'): 0.535495995400926, ('professor', 'doctor'): -1, ('planet', 'galaxy'): -1, ('psychology', 'science'): 0.5908740096534866, ('football', 'tennis'): -1, ('coast', 'shore'): 0.586151062984337, ('forest', 'graveyard'): -1, ('money', 'cash'): 0.44493834723517267, ('psychology', 'mind'): 0.44616660434351796, ('football', 'basketball'): 0.7161994042283006, ('brother', 'monk'): 0.4299318525693172, ('bishop', 'rabbi'): -1, ('alcohol', 'chemistry'): 0.6246376972254173, ('journey', 'voyage'): -1, ('baby', 'mother'): 0.5149353890388502, ('coast', 'hill'): 0.3393102883484622}\n"
     ]
    }
   ],
   "source": [
    "# NPMI_similarities stores the word pair and NPMI similarity mappings\n",
    "NPMI_similarities = {}\n",
    "\n",
    "###\n",
    "# Your answer BEGINS HERE\n",
    "###\n",
    "import math\n",
    "\n",
    "final_gold_standard_dict = set()\n",
    "for pair in final_gold_standard:\n",
    "    final_gold_standard_dict.add(pair[0])\n",
    "    final_gold_standard_dict.add(pair[1])\n",
    "\n",
    "posting_list = {}\n",
    "para_id = 0\n",
    "total_word_type_count = 0.0\n",
    "for para in brown.paras():\n",
    "    processed_para_set = set()\n",
    "    for sentence in para:\n",
    "        for word in sentence:\n",
    "            if word.isalpha():\n",
    "                word = lemmatize(word.lower())\n",
    "                processed_para_set.add(word)\n",
    "    total_word_type_count += len(processed_para_set)\n",
    "    for word in processed_para_set:\n",
    "        if word in final_gold_standard_dict:\n",
    "            if word in posting_list:\n",
    "                posting_list[word].add(para_id)\n",
    "            else:\n",
    "                posting_list[word] = {para_id}\n",
    "    para_id += 1\n",
    "    \n",
    "def get_NPMI_for_brown(word1, word2):\n",
    "    word1_para_count = len(posting_list[word1])\n",
    "    word2_para_count = len(posting_list[word2])\n",
    "    both_para_count = len(posting_list[word1].intersection(posting_list[word2]))\n",
    "    if both_para_count == 0:\n",
    "        return -1\n",
    "    return (math.log((word1_para_count / total_word_type_count) * (word2_para_count / total_word_type_count), 2) / \n",
    "           math.log((both_para_count / total_word_type_count), 2) - 1)\n",
    "\n",
    "for pair in final_gold_standard:\n",
    "    NPMI_similarities[pair] = get_NPMI_for_brown(pair[0], pair[1])\n",
    "###\n",
    "# Your answer ENDS HERE\n",
    "###\n",
    "\n",
    "print(NPMI_similarities)"
   ]
  },
  {
   "cell_type": "markdown",
   "metadata": {
    "deletable": true,
    "editable": true
   },
   "source": [
    "<b>For your testing:</b>"
   ]
  },
  {
   "cell_type": "code",
   "execution_count": 26,
   "metadata": {
    "collapsed": true,
    "deletable": true,
    "editable": true
   },
   "outputs": [],
   "source": [
    "assert(NPMI_similarities[('professor', 'doctor')] == -1)"
   ]
  },
  {
   "cell_type": "markdown",
   "metadata": {
    "deletable": true,
    "editable": true
   },
   "source": [
    "**Instructions:** As PMI matrix is very sparse and can be approximated well by a dense representation via singular value decomposition (SVD), you will derive similarity scores using the Latent Semantic Analysis (LSA) method, i.e. apply SVD and truncate to get a dense vector representation of a word type and then calculate cosine similarity between the two vectors for each word pair. You can use the Distributed Semantics notebook as a starting point, but note that since you are interested here in word semantics, you will be constructing a matrix where the (non-sparse) rows correspond to words in the vocabulary, and the (sparse) columns correspond to the texts where they appear (this is the opposite of the notebook). Again, use the Brown corpus, in the same format as with PMI and document frequency. After you have a matrix in the correct format, use `truncatedSVD` in `sklearn` to produce dense vectors of length k = 500, and then use cosine similarity to produce similarities for your word pairs. \n",
    "\n",
    "When you are done, you should store the word pair and LSA-similarity mappings in a dictionary called *LSA_similarities*. You may check the section, <i>\"For your testing\"</i>, below for the expected *LSA_similarities*. \n",
    "\n",
    "(1 mark)"
   ]
  },
  {
   "cell_type": "code",
   "execution_count": 36,
   "metadata": {
    "collapsed": false,
    "deletable": true,
    "editable": true,
    "scrolled": false
   },
   "outputs": [
    {
     "name": "stdout",
     "output_type": "stream",
     "text": [
      "{('planet', 'moon'): 0.4071248849093906, ('bread', 'butter'): 0.3049675723687067, ('king', 'queen'): 0.10904775702191281, ('journey', 'car'): 0.01599791837633559, ('stock', 'egg'): 0.11575722372251904, ('psychology', 'health'): 0.010227228856426414, ('psychology', 'doctor'): 0.0999045326069421, ('car', 'automobile'): 0.35169964693598577, ('monk', 'slave'): -0.02045945193720879, ('coast', 'forest'): 0.1371097887924005, ('student', 'professor'): 0.2994524481075816, ('professor', 'doctor'): 0.09430660394096506, ('planet', 'galaxy'): 0.052180445927353304, ('psychology', 'science'): 0.2556933174676361, ('football', 'tennis'): 0.1280482493730215, ('coast', 'shore'): 0.4557127530150523, ('forest', 'graveyard'): 0.0586650629502895, ('money', 'cash'): 0.14956055863237422, ('psychology', 'mind'): 0.11342648558036686, ('football', 'basketball'): 0.23162123978928825, ('brother', 'monk'): 0.09452919746430721, ('bishop', 'rabbi'): 0.017262297398838618, ('alcohol', 'chemistry'): 0.11125685805483866, ('journey', 'voyage'): 0.10080320087315954, ('baby', 'mother'): 0.34375737144949553, ('coast', 'hill'): 0.20767262906327955}\n"
     ]
    }
   ],
   "source": [
    "# LSA_similarities stores the word pair and LSA similarity mappings\n",
    "LSA_similarities = {}\n",
    "\n",
    "###\n",
    "# Your answer BEGINS HERE\n",
    "###\n",
    "vocabulary_brown_id = {}\n",
    "voc_posting_lists = []\n",
    "voc_id = 0\n",
    "para_id = 0\n",
    "for para in brown.paras():\n",
    "    processed_para_set = set()\n",
    "    for sentence in para:\n",
    "        for word in sentence:\n",
    "            if word.isalpha():\n",
    "                word = lemmatize(word.lower())\n",
    "                processed_para_set.add(word)\n",
    "    for word in processed_para_set:\n",
    "        if not word in vocabulary_brown_id:\n",
    "            vocabulary_brown_id[word] = voc_id\n",
    "            voc_id += 1\n",
    "            voc_posting_lists.append({para_id : 1})\n",
    "        else:\n",
    "            voc_posting_lists[vocabulary_brown_id[word]][para_id] = 1\n",
    "    para_id += 1\n",
    "\n",
    "from sklearn.feature_extraction import DictVectorizer\n",
    "vectorizer = DictVectorizer()\n",
    "brown_matrix = vectorizer.fit_transform(voc_posting_lists)\n",
    "\n",
    "from sklearn.decomposition import TruncatedSVD\n",
    "svd = TruncatedSVD(n_components=500)\n",
    "brown_matrix_lowrank = svd.fit_transform(brown_matrix)\n",
    "\n",
    "import numpy as np\n",
    "for pair in final_gold_standard:\n",
    "    word1_vec = brown_matrix_lowrank[vocabulary_brown_id[pair[0]]]\n",
    "    word2_vec = brown_matrix_lowrank[vocabulary_brown_id[pair[1]]]\n",
    "    LSA_similarities[pair] = np.dot(word1_vec, word2_vec) / np.sqrt(np.dot(word1_vec, word1_vec) * np.dot(word2_vec, word2_vec))\n",
    "###\n",
    "# Your answer ENDS HERE\n",
    "###\n",
    "\n",
    "print(LSA_similarities)"
   ]
  },
  {
   "cell_type": "markdown",
   "metadata": {
    "deletable": true,
    "editable": true
   },
   "source": [
    "<b>For your testing:</b>"
   ]
  },
  {
   "cell_type": "code",
   "execution_count": 35,
   "metadata": {
    "collapsed": true,
    "deletable": true,
    "editable": true
   },
   "outputs": [],
   "source": [
    "assert(LSA_similarities[('professor', 'doctor')] > 0 and LSA_similarities[('professor', 'doctor')] < 0.4)"
   ]
  },
  {
   "cell_type": "markdown",
   "metadata": {
    "deletable": true,
    "editable": true
   },
   "source": [
    "## 3. Comparison with the Gold Standard (1 mark)"
   ]
  },
  {
   "cell_type": "markdown",
   "metadata": {
    "deletable": true,
    "editable": true
   },
   "source": [
    "\n",
    "**Instructions:** Finally, you should compare all the similarities you've created to the gold standard you loaded and filtered in the first step. For this, you can use the Pearson correlation co-efficient (`pearsonr`), which is included in scipy (`scipy.stats`). Be careful converting your dictionaries to lists for this purpose, the data for the two datasets needs to be in the same order for correct comparison using correlation. Write a general function, then apply it to each of the similarity score dictionaries.\n",
    "\n",
    "When you are done, you should put the result in a dictionary called *pearson_correlations* (use the keys: 'lin', 'NPMI', 'LSA'). You may check the section, <i>\"For your testing\"</i>, below for the expected *pearson_correlations*. \n",
    "\n",
    "<b>Hint:</b> All of the methods used here should be markedly above 0, but also far from 1 (perfect correlation); if you're not getting reasonable results, go back and check your code for bugs!  \n",
    "\n",
    "(1 mark)\n"
   ]
  },
  {
   "cell_type": "code",
   "execution_count": 42,
   "metadata": {
    "collapsed": false,
    "deletable": true,
    "editable": true
   },
   "outputs": [
    {
     "name": "stdout",
     "output_type": "stream",
     "text": [
      "{'NPMI': 0.18799888869410042, 'lin': 0.5301489978447533, 'LSA': 0.4115195991384225}\n"
     ]
    }
   ],
   "source": [
    "from scipy.stats import pearsonr\n",
    "\n",
    "# pearson_correlations stores the pearson correlations with the gold standard of 'lin', 'NPMI', 'LSA'\n",
    "pearson_correlations = {}\n",
    "\n",
    "###\n",
    "# Your answer BEGINS HERE\n",
    "###\n",
    "def dict_to_list(d):\n",
    "    return [value for (key, value) in sorted(d.items())]\n",
    "\n",
    "def pearson_correlation(x, y):\n",
    "    return pearsonr(x, y)[0]\n",
    "\n",
    "pearson_correlations['lin'] = pearson_correlation(dict_to_list(final_gold_standard), dict_to_list(lin_similarities))\n",
    "pearson_correlations['NPMI'] = pearson_correlation(dict_to_list(final_gold_standard), dict_to_list(NPMI_similarities))\n",
    "pearson_correlations['LSA'] = pearson_correlation(dict_to_list(final_gold_standard), dict_to_list(LSA_similarities))\n",
    "###\n",
    "# Your answer ENDS HERE\n",
    "###\n",
    "\n",
    "print(pearson_correlations)"
   ]
  },
  {
   "cell_type": "markdown",
   "metadata": {
    "deletable": true,
    "editable": true
   },
   "source": [
    "<b>For your testing:</b>"
   ]
  },
  {
   "cell_type": "code",
   "execution_count": 43,
   "metadata": {
    "collapsed": false,
    "deletable": true,
    "editable": true
   },
   "outputs": [],
   "source": [
    "assert(pearson_correlations['lin'] > 0.4 and pearson_correlations['lin'] < 0.8)"
   ]
  },
  {
   "cell_type": "markdown",
   "metadata": {
    "deletable": true,
    "editable": true
   },
   "source": [
    "## Challenge yourself: Improving the correlation (This part will NOT be marked)"
   ]
  },
  {
   "cell_type": "markdown",
   "metadata": {
    "deletable": true,
    "editable": true
   },
   "source": [
    "You can try to derive a similarity score from word2vec vectors, using the Gensim interface, and compare it with the similarity scores you've created and the gold standard. Check the Gensim word2vec tutorial for details on the API: https://radimrehurek.com/gensim/models/word2vec.html. Again, you should use the Brown for this, but for word2vec you don't need to worry about paragraphs: feel free to train your model at the sentence level instead. Your vectors should have the same number of dimensions as LSA (500), and you need to run for 50 iterations. This may take a while (several minutes)."
   ]
  },
  {
   "cell_type": "code",
   "execution_count": null,
   "metadata": {
    "collapsed": true,
    "deletable": true,
    "editable": true
   },
   "outputs": [],
   "source": []
  },
  {
   "cell_type": "markdown",
   "metadata": {
    "deletable": true,
    "editable": true
   },
   "source": [
    "## A final word\n",
    "\n",
    "Normally, we would not use a corpus as small as the Brown for the purposes of building distributional word vectors. Also, note that filtering our test set to just words we are likely to do well on would typically be considered cheating."
   ]
  }
 ],
 "metadata": {
  "anaconda-cloud": {},
  "kernelspec": {
   "display_name": "Python 3",
   "language": "python",
   "name": "python3"
  },
  "language_info": {
   "codemirror_mode": {
    "name": "ipython",
    "version": 3
   },
   "file_extension": ".py",
   "mimetype": "text/x-python",
   "name": "python",
   "nbconvert_exporter": "python",
   "pygments_lexer": "ipython3",
   "version": "3.5.2"
  }
 },
 "nbformat": 4,
 "nbformat_minor": 1
}
