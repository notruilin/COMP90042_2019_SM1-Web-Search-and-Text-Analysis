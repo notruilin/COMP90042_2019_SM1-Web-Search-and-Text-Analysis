{
 "cells": [
  {
   "cell_type": "markdown",
   "metadata": {
    "deletable": true,
    "editable": true
   },
   "source": [
    "# Homework 3: Language Modelling in Hangman"
   ]
  },
  {
   "cell_type": "markdown",
   "metadata": {
    "collapsed": true,
    "deletable": true,
    "editable": true
   },
   "source": [
    "Student Name: Ruilin Liu\n",
    "\n",
    "Student ID: 871076"
   ]
  },
  {
   "cell_type": "markdown",
   "metadata": {
    "deletable": true,
    "editable": true
   },
   "source": [
    "## General info"
   ]
  },
  {
   "cell_type": "markdown",
   "metadata": {
    "deletable": true,
    "editable": true
   },
   "source": [
    "<b>Due date</b>:  Friday, 17 May 2019 4pm\n",
    "\n",
    "<b>Submission method</b>: see LMS\n",
    "\n",
    "<b>Submission materials</b>: completed copy of this iPython notebook\n",
    "\n",
    "<b>Late submissions</b>: -20% per day\n",
    "\n",
    "<b>Marks</b>: 7% of mark for class (with 6% on correctness + 1% on quality and efficiency of your code)\n",
    "\n",
    "<b>Materials</b>: See the main class LMS page for information on the basic setup required for this class, including an iPython notebook viewer and the python packages NLTK, Numpy, Scipy, Matplotlib and Scikit-Learn. In particular, if you are not using a lab computer which already has it installed, we recommend installing all the data for NLTK, since you will need various parts of it to complete this assignment. You can also use any Python built-in packages, but do not use any other 3rd party packages; if your iPython notebook doesn't run on the marker's machine, you will lose marks. <b> You should use Python 3</b>. \n",
    "\n",
    "To familiarize yourself with NLTK, here is a free online book:  Steven Bird, Ewan Klein, and Edward Loper (2009). <a href=http://nltk.org/book>Natural Language Processing with Python</a>. O'Reilly Media Inc. You may also consult the <a href=https://www.nltk.org/api/nltk.html>NLTK API</a>.\n",
    "\n",
    "<b>Evaluation</b>: Your iPython notebook should run end-to-end without any errors in a reasonable amount of time, and you must follow all instructions provided below, including specific implementation requirements and instructions for what needs to be printed (please avoid printing output we don't ask for). You should edit the sections below where requested, but leave the rest of the code as is. You should leave the output from running your code in the iPython notebook you submit, to assist with marking. The amount each section is worth is given in parenthesis after the instructions. \n",
    "\n",
    "You will be marked not only on the correctness of your methods, but also the quality and efficency of your code: in particular, you should be careful to use Python built-in functions and operators when appropriate and pick descriptive variable names that adhere to <a href=\"https://www.python.org/dev/peps/pep-0008/\">Python style requirements</a>. If you think it might be unclear what you are doing, you should comment your code to help the marker make sense of it.\n",
    "\n",
    "<b>Updates</b>: Any major changes to the assignment will be announced via LMS. Minor changes and clarifications will be announced in the forum on LMS, we recommend you check the forum regularly.\n",
    "\n",
    "<b>Academic Misconduct</b>: For most people, collaboration will form a natural part of the undertaking of this homework, and we encourge you to discuss it in general terms with other students. However, this ultimately is still an individual task, and so reuse of code or other instances of clear influence will be considered cheating. We will be checking submissions for originality and will invoke the University’s <a href=\"http://academichonesty.unimelb.edu.au/policy.html\">Academic Misconduct policy</a> where inappropriate levels of collusion or plagiarism are deemed to have taken place.\n"
   ]
  },
  {
   "cell_type": "markdown",
   "metadata": {
    "deletable": true,
    "editable": true
   },
   "source": [
    "## Overview"
   ]
  },
  {
   "cell_type": "markdown",
   "metadata": {
    "deletable": true,
    "editable": true
   },
   "source": [
    "In this homework, you'll be creating an 'artificial intelligence' player for the classic Hangman word guessing game. You will need to implement several different automatic strategies based on character level language models. Your objective is to create an automatic player which makes the fewest mistakes."
   ]
  },
  {
   "cell_type": "markdown",
   "metadata": {
    "deletable": true,
    "editable": true
   },
   "source": [
    "## The Hangman Game (*No implementation is needed*)"
   ]
  },
  {
   "cell_type": "markdown",
   "metadata": {
    "deletable": true,
    "editable": true
   },
   "source": [
    "The <a href=\"https://en.wikipedia.org/wiki/Hangman_(game)\">Hangman game</a> is a simple game whereby one person thinks of a word, which they keep secret from their opponent, who tries to guess the word one character at a time. The game ends when the opponent makes more than a fixed number of incorrect guesses, or they figure out the secret word before then (in which case they *win*). \n",
    "\n",
    "Here's a simple version of the game. "
   ]
  },
  {
   "cell_type": "code",
   "execution_count": 2,
   "metadata": {
    "collapsed": true,
    "deletable": true,
    "editable": true
   },
   "outputs": [],
   "source": [
    "def hangman(secret_word, guesser, max_mistakes=8, verbose=True, **guesser_args):\n",
    "    \"\"\"\n",
    "        This function plays the hangman game with the provided gusser and returns the number of incorrect guesses. \n",
    "        \n",
    "        secret_word: a string of lower-case alphabetic characters, i.e., the answer to the game\n",
    "        guesser: a function which guesses the next character at each stage in the game\n",
    "            The function takes a:\n",
    "                mask: what is known of the word, as a string with _ denoting an unknown character\n",
    "                guessed: the set of characters which already been guessed in the game\n",
    "                guesser_args: additional (optional) keyword arguments, i.e., name=value\n",
    "        max_mistakes: limit on length of game, in terms of allowed mistakes\n",
    "        verbose: be chatty vs silent\n",
    "        guesser_args: keyword arguments to pass directly to the guesser function\n",
    "    \"\"\"\n",
    "    secret_word = secret_word.lower()\n",
    "    mask = ['_'] * len(secret_word)\n",
    "    guessed = set()\n",
    "    if verbose:\n",
    "        print(\"Starting hangman game. Target is\", ' '.join(mask), 'length', len(secret_word))\n",
    "    \n",
    "    mistakes = 0\n",
    "    while mistakes < max_mistakes:\n",
    "        if verbose:\n",
    "            print(\"You have\", (max_mistakes-mistakes), \"attempts remaining.\")\n",
    "        guess = guesser(mask, guessed, **guesser_args)\n",
    "\n",
    "        if verbose:\n",
    "            print('Guess is', guess)\n",
    "        if guess in guessed:\n",
    "            if verbose:\n",
    "                print('Already guessed this before.')\n",
    "            mistakes += 1\n",
    "        else:\n",
    "            guessed.add(guess)\n",
    "            if guess in secret_word:\n",
    "                for i, c in enumerate(secret_word):\n",
    "                    if c == guess:\n",
    "                        mask[i] = c\n",
    "                if verbose:\n",
    "                    print('Good guess:', ' '.join(mask))\n",
    "            else:\n",
    "                if verbose:\n",
    "                    print('Sorry, try again.')\n",
    "                mistakes += 1\n",
    "                \n",
    "        if '_' not in mask:\n",
    "            if verbose:\n",
    "                print('Congratulations, you won.')\n",
    "            return mistakes\n",
    "        \n",
    "    if verbose:\n",
    "        print('Out of guesses. The word was', secret_word)    \n",
    "    return mistakes"
   ]
  },
  {
   "cell_type": "markdown",
   "metadata": {
    "deletable": true,
    "editable": true
   },
   "source": [
    "Here is a human guesser allowing interactive play."
   ]
  },
  {
   "cell_type": "code",
   "execution_count": 3,
   "metadata": {
    "collapsed": true,
    "deletable": true,
    "editable": true
   },
   "outputs": [],
   "source": [
    "def human(mask, guessed, **kwargs):\n",
    "    \"\"\"\n",
    "    This is a simple function for manual play.\n",
    "    \"\"\"\n",
    "    print('Enter your guess:')\n",
    "    return input().lower().strip()"
   ]
  },
  {
   "cell_type": "markdown",
   "metadata": {
    "deletable": true,
    "editable": true
   },
   "source": [
    "If you want to play hangman interactively, please set `interactive` to True. When submitting your solution, set to False so we can automatically run the whole notebook using `Run All`."
   ]
  },
  {
   "cell_type": "code",
   "execution_count": 4,
   "metadata": {
    "collapsed": true,
    "deletable": true,
    "editable": true
   },
   "outputs": [],
   "source": [
    "interactive = False"
   ]
  },
  {
   "cell_type": "markdown",
   "metadata": {
    "deletable": true,
    "editable": true
   },
   "source": [
    "<b>For your testing:</b>"
   ]
  },
  {
   "cell_type": "markdown",
   "metadata": {
    "deletable": true,
    "editable": true
   },
   "source": [
    "You can play the game interactively using the following command:"
   ]
  },
  {
   "cell_type": "code",
   "execution_count": 5,
   "metadata": {
    "collapsed": false,
    "deletable": true,
    "editable": true
   },
   "outputs": [],
   "source": [
    "if interactive:\n",
    "    hangman('whatever', human, 8, True)"
   ]
  },
  {
   "cell_type": "markdown",
   "metadata": {
    "deletable": true,
    "editable": true
   },
   "source": [
    "## 1. Preparing Test Set and Training Set (1 mark)"
   ]
  },
  {
   "cell_type": "markdown",
   "metadata": {
    "collapsed": true,
    "deletable": true,
    "editable": true
   },
   "source": [
    "<b>Instructions</b>: We will be using the words occurring in the *Brown* corpus for *training* an artificial intelligence guessing algorithm, and for *evaluating* the quality of the algorithm. Note that we are intentionally making the hangman game hard, as the AI will need to cope with test words that it has not seen before, hence it will need to learn generalisable patterns of characters to make reasonable predictions.\n",
    "\n",
    "Your first task is to compute the unique word types occurring in the *Brown* corpus, using `nltk.corpus.Brown` and the `words` method, selecting only words that are entirely comprised of alphabetic characters, and lowercasing the words. Finally, randomly shuffle (`numpy.random.shuffle`) this collection of word types, and split them into disjoint training and testing sets. The test set should contain 1000 word types, and the rest should be in the training set. Your code should print the sizes of the training and test sets.\n",
    "\n",
    "Feel free to test your own Hangman performance using `hangman(numpy.random.choice(test_set), human, 8, True)`. It is surprisingly difficult (and addictive)!\n",
    "\n",
    "(1 mark)"
   ]
  },
  {
   "cell_type": "code",
   "execution_count": 6,
   "metadata": {
    "collapsed": false,
    "deletable": true,
    "editable": true
   },
   "outputs": [
    {
     "name": "stdout",
     "output_type": "stream",
     "text": [
      "40234\n",
      "1000\n",
      "39234\n"
     ]
    }
   ],
   "source": [
    "from nltk.corpus import brown\n",
    "import numpy as np\n",
    "\n",
    "np.random.seed(12345)\n",
    "\n",
    "# word_set stores all the unique word types in the Brown corpus\n",
    "word_set = []\n",
    "# test_set stores 1000 word types for testing\n",
    "test_set = []\n",
    "# training_set stores the rest word types for training\n",
    "training_set = []\n",
    "\n",
    "###\n",
    "# Your answer BEGINS HERE\n",
    "###\n",
    "vocab = set()\n",
    "for word in brown.words():\n",
    "    if word.isalpha():\n",
    "        vocab.add(word.lower())\n",
    "word_set = list(vocab)\n",
    "test_set = word_set[0:1000]\n",
    "training_set = word_set[1000:]\n",
    "###\n",
    "# Your answer ENDS HERE\n",
    "###\n",
    "\n",
    "print(len(word_set))\n",
    "print(len(test_set))\n",
    "print(len(training_set))"
   ]
  },
  {
   "cell_type": "markdown",
   "metadata": {
    "deletable": true,
    "editable": true
   },
   "source": [
    "<b>For your testing:</b>"
   ]
  },
  {
   "cell_type": "code",
   "execution_count": 7,
   "metadata": {
    "collapsed": true,
    "deletable": true,
    "editable": true
   },
   "outputs": [],
   "source": [
    "assert(len(word_set) > 35000 and len(word_set) < 45000)"
   ]
  },
  {
   "cell_type": "code",
   "execution_count": 8,
   "metadata": {
    "collapsed": true,
    "deletable": true,
    "editable": true
   },
   "outputs": [],
   "source": [
    "assert(len(test_set) == 1000)"
   ]
  },
  {
   "cell_type": "code",
   "execution_count": 9,
   "metadata": {
    "collapsed": true,
    "deletable": true,
    "editable": true
   },
   "outputs": [],
   "source": [
    "assert(len(training_set) + len(test_set) == len(word_set))"
   ]
  },
  {
   "cell_type": "code",
   "execution_count": 10,
   "metadata": {
    "collapsed": false,
    "deletable": true,
    "editable": true,
    "scrolled": true
   },
   "outputs": [],
   "source": [
    "if interactive:\n",
    "    hangman(np.random.choice(test_set), human, 8, True)"
   ]
  },
  {
   "cell_type": "markdown",
   "metadata": {
    "deletable": true,
    "editable": true
   },
   "source": [
    "## 2. Simple Guesser: Random Guessing (1 mark)"
   ]
  },
  {
   "cell_type": "markdown",
   "metadata": {
    "deletable": true,
    "editable": true
   },
   "source": [
    "<b>Instructions</b>: To set a baseline, your first *AI* attempt will be a trivial random method. For this you should implement a guessing method, similar to the `human` method above, i.e., using the same input arguments and returning a character. Your method should randomly choose a character from the range `'a'...'z'` after excluding the characters that have already been guessed in the current game (all subsequent AI approaches should also exclude previous guesses). You might want to use `numpy.random.choice` for this purpose.\n",
    "\n",
    "To help you measure the performance of this (and later) guesser, a `test_guesser` method that takes a guesser and measures the average number of incorrect guesses made over all the words in the `test_set` is provided to you. \n",
    "\n",
    "(1 mark)"
   ]
  },
  {
   "cell_type": "code",
   "execution_count": 11,
   "metadata": {
    "collapsed": true,
    "deletable": true,
    "editable": true
   },
   "outputs": [],
   "source": [
    "def test_guesser(guesser, test=test_set):\n",
    "    \"\"\"\n",
    "        This function takes a guesser and measures the average number of incorrect guesses made over all the words in the test_set. \n",
    "    \"\"\"\n",
    "    total = 0\n",
    "    for word in test:\n",
    "        total += hangman(word, guesser, 26, False)\n",
    "    return total / float(len(test))"
   ]
  },
  {
   "cell_type": "code",
   "execution_count": 12,
   "metadata": {
    "collapsed": false,
    "deletable": true,
    "editable": true
   },
   "outputs": [
    {
     "name": "stdout",
     "output_type": "stream",
     "text": [
      "\n",
      "Average number of incorrect guesses:  16.684\n"
     ]
    }
   ],
   "source": [
    "import string\n",
    "\n",
    "def random_guesser(mask, guessed, **kwargs):\n",
    "    \"\"\"\n",
    "        This function implements a random guesser. It returns the random guess. \n",
    "    \"\"\"\n",
    "    ###\n",
    "    # Your answer BEGINS HERE\n",
    "    ###\n",
    "    char = np.random.choice(list(string.ascii_lowercase))\n",
    "    while char in guessed:\n",
    "        char = np.random.choice(list(string.ascii_lowercase))\n",
    "    return char\n",
    "    ###\n",
    "    # Your answer ENDS HERE\n",
    "    ###\n",
    "\n",
    "# uncomment to run a single hangman game with output shown (useful for debugging)\n",
    "#hangman(np.random.choice(test_set), random_guesser, 10, True)\n",
    "\n",
    "result = test_guesser(random_guesser)\n",
    "print()\n",
    "print(\"Average number of incorrect guesses: \", result)"
   ]
  },
  {
   "cell_type": "markdown",
   "metadata": {
    "deletable": true,
    "editable": true
   },
   "source": [
    "<b>For your testing:</b>"
   ]
  },
  {
   "cell_type": "code",
   "execution_count": 13,
   "metadata": {
    "collapsed": true,
    "deletable": true,
    "editable": true
   },
   "outputs": [],
   "source": [
    "assert(result > 10 and result < 20)"
   ]
  },
  {
   "cell_type": "markdown",
   "metadata": {
    "deletable": true,
    "editable": true
   },
   "source": [
    "## 3. Your First AI Guesser: Unigram Guesser (1 mark)"
   ]
  },
  {
   "cell_type": "markdown",
   "metadata": {
    "deletable": true,
    "editable": true
   },
   "source": [
    "**Instructions:** As your first real AI, you should train a *unigram* model over the training set.  This requires you to find the frequencies of characters over all training words. Using this model, you should write a guesser that returns the character with the highest probability. Remember to exclude already guessed characters. \n",
    "\n",
    "Hint: It should be much lower than random guessing.\n",
    "\n",
    "(1 mark)"
   ]
  },
  {
   "cell_type": "code",
   "execution_count": 14,
   "metadata": {
    "collapsed": false,
    "deletable": true,
    "editable": true
   },
   "outputs": [
    {
     "name": "stdout",
     "output_type": "stream",
     "text": [
      "Counter({'e': 35195, 'i': 26082, 'a': 24333, 's': 23722, 'n': 22582, 'r': 22084, 't': 20650, 'o': 19157, 'l': 16694, 'c': 12597, 'd': 12266, 'u': 10164, 'm': 8681, 'g': 8610, 'p': 8532, 'h': 7346, 'b': 5741, 'y': 5346, 'f': 4193, 'v': 3429, 'k': 2989, 'w': 2786, 'z': 1026, 'x': 834, 'j': 638, 'q': 531})\n",
      "\n",
      "Average number of incorrect guesses:  10.458\n"
     ]
    }
   ],
   "source": [
    "from collections import Counter\n",
    "\n",
    "# unigram_counts stores the frequencies of characters over all training words\n",
    "unigram_counts = Counter()\n",
    "\n",
    "###\n",
    "# Your answer BEGINS HERE\n",
    "###\n",
    "for word in training_set:\n",
    "    for char in word:\n",
    "        unigram_counts[char] += 1\n",
    "###\n",
    "# Your answer ENDS HERE\n",
    "###\n",
    "\n",
    "print(unigram_counts)\n",
    "\n",
    "def unigram_guesser(mask, guessed, unigram_counts=unigram_counts):\n",
    "    \"\"\"\n",
    "        This function implements a unigram guesser. It returns a guess based on the unigram model. \n",
    "    \"\"\"\n",
    "    ###\n",
    "    # Your answer BEGINS HERE\n",
    "    ###\n",
    "    max_freq = -1\n",
    "    for char in string.ascii_lowercase:\n",
    "        if char not in guessed:\n",
    "            freq = unigram_counts.get(char, 0)\n",
    "            if freq > max_freq:\n",
    "                max_freq = freq\n",
    "                guess = char\n",
    "    return guess\n",
    "    ###\n",
    "    # Your answer ENDS HERE\n",
    "    ###\n",
    "\n",
    "#hangman(np.random.choice(test_set), unigram_guesser, 10, True)\n",
    "\n",
    "result = test_guesser(unigram_guesser)\n",
    "print()\n",
    "print(\"Average number of incorrect guesses: \", result)"
   ]
  },
  {
   "cell_type": "markdown",
   "metadata": {
    "deletable": true,
    "editable": true
   },
   "source": [
    "<b>For your testing:</b>"
   ]
  },
  {
   "cell_type": "code",
   "execution_count": 15,
   "metadata": {
    "collapsed": true,
    "deletable": true,
    "editable": true
   },
   "outputs": [],
   "source": [
    "assert(result > 5 and result < 15)"
   ]
  },
  {
   "cell_type": "markdown",
   "metadata": {
    "deletable": true,
    "editable": true
   },
   "source": [
    "## 4. Your Second AI Guesser: Length-based Unigram Guesser (1 mark)"
   ]
  },
  {
   "cell_type": "markdown",
   "metadata": {
    "deletable": true,
    "editable": true
   },
   "source": [
    "**Instructions:** The length of the secret word is an important clue that we might exploit. Different length words tend to have different distributions over characters, e.g., short words are less likely to have suffixes or prefixes. You should incorporate this idea by conditioning the unigram model on the length of the secret word, i.e., having a *different* unigram model for each length of the words. You will need to be a little careful at test time, to be robust to the (unlikely) situation that you encounter a word length that you didn't see in training. You need to decide on how to handle this situation.\n",
    "\n",
    "(1 mark)"
   ]
  },
  {
   "cell_type": "code",
   "execution_count": 16,
   "metadata": {
    "collapsed": false,
    "deletable": true,
    "editable": true,
    "scrolled": true
   },
   "outputs": [
    {
     "name": "stdout",
     "output_type": "stream",
     "text": [
      "[1, 2, 3, 4, 5, 6, 7, 8, 9, 10, 11, 12, 13, 14, 15, 16, 17, 18, 19, 20, 21, 22]\n",
      "\n",
      "defaultdict(<class 'collections.Counter'>, {1: Counter({'u': 1, 'x': 1, 'k': 1, 't': 1, 'c': 1, 'r': 1, 'q': 1, 'j': 1, 'h': 1, 'v': 1, 'z': 1, 'n': 1, 'y': 1, 'w': 1, 'o': 1, 'p': 1, 's': 1, 'b': 1, 'a': 1, 'm': 1, 'd': 1, 'f': 1, 'i': 1, 'g': 1, 'e': 1, 'l': 1}), 2: Counter({'a': 24, 'e': 21, 's': 19, 'm': 19, 'o': 18, 'i': 16, 'l': 13, 'h': 12, 'p': 12, 'u': 11, 't': 11, 'n': 11, 'c': 11, 'd': 11, 'b': 9, 'r': 9, 'f': 9, 'v': 7, 'w': 7, 'y': 6, 'g': 6, 'k': 5, 'j': 5, 'x': 3, 'q': 2, 'z': 1}), 3: Counter({'a': 237, 'e': 200, 'o': 176, 'i': 128, 'n': 118, 's': 115, 't': 113, 'p': 105, 'm': 101, 'r': 99, 'd': 99, 'u': 98, 'b': 85, 'l': 80, 'h': 77, 'y': 77, 'g': 74, 'w': 71, 'c': 68, 'f': 52, 'k': 31, 'j': 26, 'v': 24, 'x': 22, 'z': 10, 'q': 6}), 4: Counter({'e': 905, 'a': 878, 's': 696, 'o': 685, 'l': 554, 'i': 536, 'r': 521, 't': 486, 'n': 475, 'd': 367, 'u': 343, 'm': 296, 'h': 292, 'p': 290, 'c': 259, 'b': 256, 'k': 228, 'g': 216, 'w': 193, 'y': 177, 'f': 166, 'v': 99, 'j': 62, 'z': 45, 'x': 35, 'q': 8}), 5: Counter({'e': 2213, 'a': 1823, 's': 1819, 'r': 1366, 'o': 1322, 'l': 1205, 'i': 1158, 't': 1083, 'n': 1036, 'd': 772, 'c': 700, 'u': 680, 'h': 597, 'm': 572, 'y': 542, 'p': 526, 'b': 506, 'g': 455, 'k': 378, 'f': 337, 'w': 302, 'v': 237, 'z': 86, 'j': 79, 'x': 66, 'q': 30}), 6: Counter({'e': 4251, 'a': 2690, 's': 2608, 'r': 2546, 'i': 2050, 'n': 1994, 'o': 1988, 'l': 1963, 't': 1859, 'd': 1621, 'u': 1151, 'c': 1072, 'm': 937, 'g': 889, 'h': 880, 'p': 855, 'b': 780, 'y': 704, 'f': 498, 'k': 449, 'w': 431, 'v': 400, 'z': 126, 'j': 101, 'x': 93, 'q': 52}), 7: Counter({'e': 5322, 'a': 3544, 's': 3480, 'r': 3405, 'i': 3352, 'n': 3036, 't': 2657, 'o': 2502, 'l': 2497, 'd': 2045, 'c': 1673, 'g': 1499, 'u': 1495, 'm': 1247, 'p': 1231, 'h': 1106, 'b': 941, 'y': 748, 'f': 670, 'k': 588, 'w': 520, 'v': 463, 'z': 156, 'x': 109, 'j': 96, 'q': 82}), 8: Counter({'e': 5599, 'i': 3907, 's': 3671, 'a': 3655, 'n': 3493, 'r': 3473, 't': 2901, 'o': 2764, 'l': 2607, 'd': 2224, 'c': 1926, 'u': 1568, 'g': 1535, 'm': 1303, 'p': 1224, 'h': 1167, 'b': 850, 'y': 712, 'f': 712, 'v': 535, 'k': 512, 'w': 474, 'z': 111, 'x': 110, 'q': 84, 'j': 83}), 9: Counter({'e': 5409, 'i': 3934, 'n': 3474, 'a': 3450, 's': 3447, 'r': 3257, 't': 3070, 'o': 2628, 'l': 2324, 'c': 1914, 'd': 1871, 'u': 1442, 'g': 1371, 'm': 1241, 'p': 1150, 'h': 1016, 'b': 765, 'y': 647, 'f': 577, 'v': 525, 'k': 373, 'w': 370, 'z': 132, 'x': 123, 'q': 88, 'j': 69}), 10: Counter({'e': 4340, 'i': 3616, 'n': 3076, 's': 2899, 't': 2799, 'a': 2777, 'r': 2667, 'o': 2388, 'l': 1949, 'c': 1678, 'd': 1407, 'u': 1293, 'g': 1083, 'p': 1073, 'm': 1058, 'h': 826, 'b': 621, 'y': 548, 'f': 465, 'v': 439, 'w': 208, 'k': 181, 'z': 109, 'x': 99, 'q': 65, 'j': 56}), 11: Counter({'e': 2955, 'i': 2750, 'n': 2263, 't': 2151, 's': 2007, 'a': 2004, 'r': 1919, 'o': 1691, 'l': 1322, 'c': 1224, 'u': 854, 'd': 801, 'p': 774, 'm': 740, 'g': 635, 'h': 513, 'b': 421, 'y': 414, 'f': 292, 'v': 291, 'k': 134, 'w': 119, 'x': 73, 'z': 68, 'q': 46, 'j': 27}), 12: Counter({'i': 1904, 'e': 1890, 'n': 1540, 't': 1471, 'a': 1426, 's': 1314, 'r': 1271, 'o': 1234, 'l': 967, 'c': 897, 'u': 585, 'p': 551, 'm': 515, 'd': 506, 'g': 391, 'h': 381, 'y': 303, 'b': 255, 'f': 196, 'v': 194, 'z': 69, 'k': 55, 'w': 53, 'x': 39, 'q': 35, 'j': 18}), 13: Counter({'i': 1293, 'e': 1055, 'n': 1030, 't': 972, 'a': 913, 'o': 839, 's': 803, 'r': 757, 'c': 577, 'l': 546, 'p': 360, 'm': 350, 'u': 335, 'd': 260, 'g': 248, 'h': 206, 'y': 206, 'b': 139, 'v': 119, 'f': 113, 'z': 37, 'x': 34, 'k': 28, 'w': 22, 'q': 19, 'j': 10}), 14: Counter({'i': 712, 'e': 561, 'n': 542, 't': 521, 's': 460, 'a': 455, 'o': 450, 'r': 395, 'l': 327, 'c': 296, 'p': 178, 'u': 170, 'm': 155, 'd': 147, 'h': 123, 'y': 116, 'g': 115, 'b': 69, 'v': 64, 'f': 62, 'z': 33, 'x': 12, 'k': 10, 'w': 9, 'q': 7, 'j': 3}), 15: Counter({'i': 393, 't': 280, 'n': 269, 'o': 248, 'e': 245, 'a': 232, 's': 204, 'r': 196, 'l': 168, 'c': 163, 'p': 110, 'y': 79, 'u': 73, 'm': 72, 'd': 70, 'h': 69, 'g': 49, 'b': 24, 'f': 23, 'v': 20, 'z': 18, 'x': 8, 'k': 8, 'q': 4, 'w': 4, 'j': 1}), 16: Counter({'i': 169, 't': 133, 'a': 110, 'n': 108, 'e': 107, 'o': 105, 'r': 94, 'l': 91, 's': 87, 'c': 64, 'p': 46, 'h': 36, 'm': 34, 'y': 33, 'u': 31, 'd': 25, 'g': 21, 'b': 11, 'z': 10, 'f': 10, 'x': 6, 'v': 6, 'k': 4, 'q': 2, 'w': 1}), 17: Counter({'i': 92, 't': 79, 'a': 71, 'e': 69, 'n': 66, 'r': 62, 'o': 58, 's': 44, 'l': 43, 'c': 39, 'h': 26, 'p': 26, 'm': 25, 'd': 24, 'y': 20, 'u': 18, 'g': 12, 'z': 9, 'b': 5, 'v': 4, 'f': 3, 'x': 1, 'k': 1, 'j': 1, 'w': 1}), 18: Counter({'i': 48, 't': 44, 'e': 37, 's': 35, 'r': 34, 'o': 33, 'n': 29, 'a': 25, 'c': 24, 'l': 23, 'p': 14, 'h': 13, 'd': 12, 'y': 10, 'm': 9, 'u': 8, 'g': 6, 'f': 4, 'k': 2, 'b': 2, 'v': 1, 'z': 1}), 19: Counter({'o': 18, 'i': 15, 'n': 14, 't': 13, 'a': 11, 'r': 9, 'e': 8, 's': 7, 'c': 7, 'l': 7, 'u': 5, 'p': 3, 'm': 3, 'd': 3, 'g': 3, 'h': 2, 'f': 2, 'z': 2, 'y': 1}), 20: Counter({'i': 5, 't': 4, 'n': 3, 'a': 2, 'o': 2, 'u': 1, 'z': 1, 's': 1, 'l': 1}), 21: Counter({'o': 6, 'c': 4, 'p': 3, 's': 3, 'a': 3, 'r': 3, 'e': 3, 'h': 3, 'l': 3, 'i': 3, 'm': 3, 'u': 1, 't': 1, 'n': 1, 'y': 1, 'g': 1}), 22: Counter({'e': 4, 'n': 3, 'l': 3, 's': 2, 'a': 2, 'u': 1, 'k': 1, 'z': 1, 't': 1, 'b': 1, 'o': 1, 'f': 1, 'y': 1})})\n",
      "\n",
      "Average number of incorrect guesses:  10.425\n"
     ]
    }
   ],
   "source": [
    "from collections import defaultdict\n",
    "\n",
    "# unigram_counts_by_length stores a dictionary, mapping word length to the frequencies of characters of words with that word length\n",
    "unigram_counts_by_length = defaultdict(Counter)\n",
    "\n",
    "###\n",
    "# Your answer BEGINS HERE\n",
    "###\n",
    "for word in training_set:\n",
    "    for char in word:\n",
    "        unigram_counts_by_length[len(word)][char] += 1\n",
    "###\n",
    "# Your answer ENDS HERE\n",
    "###\n",
    "\n",
    "lengths = sorted(unigram_counts_by_length.keys())\n",
    "max_length = lengths[-1] + 1\n",
    "print(lengths)\n",
    "print()\n",
    "print(unigram_counts_by_length)\n",
    "\n",
    "def unigram_length_guesser(mask, guessed, counts=unigram_counts_by_length):\n",
    "    \"\"\"\n",
    "        This function implements a length-based unigram guesser. It returns a guess based on the length-based unigram model. \n",
    "    \"\"\"\n",
    "    ###\n",
    "    # Your answer BEGINS HERE\n",
    "    ###\n",
    "    \n",
    "    # Find the closest length\n",
    "    length = len(mask)\n",
    "    offset = 0\n",
    "    while (length - offset) not in counts and (length + offset) not in counts:\n",
    "        offset += 1\n",
    "    if length - offset in counts:\n",
    "        length -= offset\n",
    "    else:\n",
    "        length += offset\n",
    "    \n",
    "    max_freq = -1\n",
    "    for char in string.ascii_lowercase:\n",
    "        if char not in guessed:\n",
    "            freq = counts[length].get(char, 0)\n",
    "            if freq > max_freq:\n",
    "                max_freq = freq\n",
    "                guess = char\n",
    "    return guess\n",
    "    ###\n",
    "    # Your answer ENDS HERE\n",
    "    ###\n",
    "\n",
    "#hangman(np.random.choice(test_set), unigram_length_guesser, 10, True)\n",
    "\n",
    "result = test_guesser(unigram_length_guesser)\n",
    "print()\n",
    "print(\"Average number of incorrect guesses: \", result)"
   ]
  },
  {
   "cell_type": "markdown",
   "metadata": {
    "deletable": true,
    "editable": true
   },
   "source": [
    "<b>For your testing:</b>"
   ]
  },
  {
   "cell_type": "code",
   "execution_count": 17,
   "metadata": {
    "collapsed": true,
    "deletable": true,
    "editable": true
   },
   "outputs": [],
   "source": [
    "assert(result > 5 and result < 15)"
   ]
  },
  {
   "cell_type": "markdown",
   "metadata": {
    "deletable": true,
    "editable": true
   },
   "source": [
    "## 5. Your Third AI Guesser: Bigram Guesser (1 mark)"
   ]
  },
  {
   "cell_type": "code",
   "execution_count": null,
   "metadata": {
    "collapsed": true,
    "deletable": true,
    "editable": true
   },
   "outputs": [],
   "source": []
  },
  {
   "cell_type": "markdown",
   "metadata": {
    "deletable": true,
    "editable": true
   },
   "source": [
    "**Instructions:** Now for the next challenge, using a *bigram* language model over characters. The order of characters is obviously important, yet this wasn't incorporated in any of the above models. Knowing that the word has the sequence `n _ s s` is a pretty strong clue that the missing character might be `e`. Similarly the distribution over characters that start or end a word are highly biased (e.g., toward common prefixes and suffixes, like *un-*, *-ed* and *-ly*).\n",
    "\n",
    "You should develop a *bigram* language model over characters, train this over the training words (being careful to handle the start of each word properly, e.g., by padding with a sentinel symbol `$`.) You should use *linear interpolation* to smooth between the higher order and lower order models, and you will have to decide how to weight each component (be reminded that all probabilities should sum to 1).\n",
    "\n",
    "Your bigram guesser should apply your language model to each blank position in the secret word by using the left context as is known. E.g., in the partial word `$ _ e c _ e _ _` we know the left context for the first three blanks, but have no known left context for the last blank. Using a bigram language model, we are able to apply it to the first three blanks only. You should then select the character with the highest probability of predicting the most number of correct entries over the blanks. \n",
    "\n",
    "Do you see any improvement over the unigram guessers above?\n",
    "\n",
    "(1 mark)"
   ]
  },
  {
   "cell_type": "code",
   "execution_count": 18,
   "metadata": {
    "collapsed": false,
    "deletable": true,
    "editable": true
   },
   "outputs": [
    {
     "name": "stdout",
     "output_type": "stream",
     "text": [
      "\n",
      "Average number of incorrect guesses:  8.922\n"
     ]
    }
   ],
   "source": [
    "###\n",
    "# Your answer BEGINS HERE\n",
    "###\n",
    "bigram_counts = None # you will want a different data structure to store the bigram \n",
    "bigram_counts = Counter()\n",
    "for word in training_set:\n",
    "    word = '$' + word\n",
    "    for i in range(len(word) - 1):\n",
    "        bigram_counts[(word[i],word[i+1])] += 1\n",
    "bigram_lambda = 0.95\n",
    "unigram_lambda = 1 - bigram_lambda\n",
    "\n",
    "def get_prob_interp_bigram(prev_char, char):\n",
    "    if prev_char == '$':\n",
    "        uni_counts = len(training_set)\n",
    "    else:\n",
    "        uni_counts = unigram_counts[prev_char]\n",
    "    return bigram_lambda * (bigram_counts[(prev_char,char)] / float(uni_counts))\n",
    "\n",
    "def get_prob_interp_unigram(char):\n",
    "    return unigram_lambda * (unigram_counts[char] / float(sum(unigram_counts.values())))\n",
    "\n",
    "###\n",
    "# Your answer ENDS HERE\n",
    "###\n",
    "\n",
    "def bigram_guesser(mask, guessed, counts=bigram_counts): # add extra default arguments if needed\n",
    "    \"\"\"\n",
    "        This function implements a bigram guesser. It returns a guess based on the bigram model using linear interpolation.\n",
    "    \"\"\"\n",
    "    ###\n",
    "    # Your answer BEGINS HERE\n",
    "    ###\n",
    "    max_prob_for_all = -1\n",
    "    mask = ['$'] + mask\n",
    "    for i in range(len(mask)):\n",
    "        if mask[i] == '_' and mask[i-1] != '_':\n",
    "            max_prob = -1\n",
    "            for char in string.ascii_lowercase:\n",
    "                if char not in guessed:\n",
    "                    prob_interp = get_prob_interp_bigram(mask[i-1], char) + get_prob_interp_unigram(char)\n",
    "                    if prob_interp > max_prob:\n",
    "                        max_prob = prob_interp\n",
    "                        guess = char\n",
    "            if max_prob > max_prob_for_all:\n",
    "                max_prob_for_all = max_prob\n",
    "                ans_guess = guess\n",
    "                \n",
    "    return ans_guess\n",
    "    ###\n",
    "    # Your answer ENDS HERE\n",
    "    ###\n",
    "\n",
    "#hangman(np.random.choice(test_set), bigram_guesser, 10, True)\n",
    "\n",
    "result = test_guesser(bigram_guesser)\n",
    "print()\n",
    "print(\"Average number of incorrect guesses: \", result)"
   ]
  },
  {
   "cell_type": "markdown",
   "metadata": {
    "deletable": true,
    "editable": true
   },
   "source": [
    "<b>For your testing:</b>"
   ]
  },
  {
   "cell_type": "code",
   "execution_count": 19,
   "metadata": {
    "collapsed": true,
    "deletable": true,
    "editable": true
   },
   "outputs": [],
   "source": [
    "assert(result < 13)"
   ]
  },
  {
   "cell_type": "markdown",
   "metadata": {
    "deletable": true,
    "editable": true
   },
   "source": [
    "## 6. Your Own AI Guesser (1 mark)"
   ]
  },
  {
   "cell_type": "code",
   "execution_count": null,
   "metadata": {
    "collapsed": true,
    "deletable": true,
    "editable": true
   },
   "outputs": [],
   "source": []
  },
  {
   "cell_type": "markdown",
   "metadata": {
    "deletable": true,
    "editable": true
   },
   "source": [
    "**Instructions:** You should try to develop a more effective AI, `my_ai_guesser`, for hangman. Feel free to engage your creativity here! Possibilities include better conditioning on the length of the word, fancier smoothing methods, and using ngram models. Ensure you report the test performance of your guesser. Have fun!\n",
    "\n",
    "You will be marked based on the explanation of your approach and its accuracy. \n",
    "\n",
    "(1 mark) "
   ]
  },
  {
   "cell_type": "code",
   "execution_count": 22,
   "metadata": {
    "collapsed": false,
    "deletable": true,
    "editable": true
   },
   "outputs": [
    {
     "name": "stdout",
     "output_type": "stream",
     "text": [
      "\n",
      "Average number of incorrect guesses:  8.418\n"
     ]
    }
   ],
   "source": [
    "###\n",
    "# Your answer BEGINS HERE\n",
    "###\n",
    "unigram_counts_by_degree = defaultdict(Counter)\n",
    "bigram_counts_by_degree = defaultdict(Counter)\n",
    "trigram_counts_by_degree = defaultdict(Counter)\n",
    "degree_counts = Counter()\n",
    "\n",
    "def get_length_degree(word):\n",
    "    word = word.replace(\"$\",\"\")\n",
    "    length = len(word)\n",
    "    if (length <= 4): return 0\n",
    "    if (length <= 7): return 1\n",
    "    if (length <= 9): return 2\n",
    "    if (length <= 13): return 3\n",
    "    return 4\n",
    "\n",
    "for word in training_set:\n",
    "    degree_counts[get_length_degree(word)] += 1\n",
    "    for char in word:\n",
    "        unigram_counts_by_degree[get_length_degree(word)][char] += 1\n",
    "\n",
    "for word in training_set:\n",
    "    word = '$' + word\n",
    "    for i in range(len(word) - 1):\n",
    "        bigram_counts_by_degree[get_length_degree(word)][(word[i],word[i+1])] += 1\n",
    "\n",
    "for word in training_set:\n",
    "    word = \"$$\" + word\n",
    "    for i in range(len(word) - 2):\n",
    "        trigram_counts_by_degree[get_length_degree(word)][(word[i],word[i+1],word[i+2])] += 1       \n",
    "\n",
    "my_trigram_lambda = 0.70\n",
    "my_bigram_lambda = 0.21\n",
    "my_zerogram_lambda = 0.03\n",
    "my_unigram_lambda = 1 - my_trigram_lambda - my_bigram_lambda - my_zerogram_lambda\n",
    "# Estimating the prob of character which doesn't appear in the length of words is 1/26\n",
    "prob_interp_zerogram = my_zerogram_lambda * (1 / float(26))\n",
    "\n",
    "def get_prob_interp_trigram_by_degree(prev_prev_char, prev_char, char, degree):\n",
    "    if prev_prev_char == '$':\n",
    "        bi_counts = degree_counts[degree]\n",
    "    else:\n",
    "        bi_counts = bigram_counts_by_degree[degree][(prev_prev_char, prev_char)]\n",
    "    if bi_counts == 0:\n",
    "        return 0\n",
    "    return my_trigram_lambda * (trigram_counts_by_degree[degree][(prev_prev_char,prev_char,char)] / float(bi_counts))\n",
    "\n",
    "def get_prob_interp_bigram_by_degree(prev_char, char, degree):\n",
    "    if prev_char == '$':\n",
    "        uni_counts = degree_counts[degree]\n",
    "    else:\n",
    "        uni_counts = unigram_counts_by_degree[degree][prev_char]\n",
    "    if uni_counts == 0:\n",
    "        return 0\n",
    "    return my_bigram_lambda * (bigram_counts_by_degree[degree][(prev_char,char)] / float(uni_counts))\n",
    "\n",
    "def get_prob_interp_unigram_by_degree(char, degree):\n",
    "    return my_unigram_lambda * (unigram_counts_by_degree[degree][char] / float(sum(unigram_counts_by_degree[degree].values())))\n",
    "\n",
    "def my_ai_guesser(mask, guessed):\n",
    "    degree = get_length_degree(\"\".join(mask))\n",
    "    mask = [\"$\",\"$\"] + mask\n",
    "    \n",
    "    max_prob_for_all = -1\n",
    "    for i in range(len(mask)):\n",
    "        if mask[i] == '_' and mask[i-1] != '_':\n",
    "            max_prob = -1\n",
    "            for char in string.ascii_lowercase:\n",
    "                if char not in guessed:\n",
    "                    prob_interp = get_prob_interp_trigram_by_degree(mask[i-2], mask[i-1], char, degree) + get_prob_interp_bigram_by_degree(mask[i-1], char, degree) + get_prob_interp_unigram_by_degree(char, degree) + prob_interp_zerogram\n",
    "                    if prob_interp > max_prob:\n",
    "                        max_prob = prob_interp\n",
    "                        guess = char\n",
    "            if max_prob > max_prob_for_all:\n",
    "                max_prob_for_all = max_prob\n",
    "                ans_guess = guess\n",
    "    return ans_guess\n",
    "###\n",
    "# Your answer ENDS HERE\n",
    "###\n",
    "\n",
    "result = test_guesser(my_ai_guesser)\n",
    "print()\n",
    "print(\"Average number of incorrect guesses: \", result)"
   ]
  },
  {
   "cell_type": "markdown",
   "metadata": {
    "deletable": true,
    "editable": true
   },
   "source": [
    "###### **Instructions:** Explain your approach and discuss your result below. Please keep it brief."
   ]
  },
  {
   "cell_type": "code",
   "execution_count": 21,
   "metadata": {
    "collapsed": false,
    "deletable": true,
    "editable": true
   },
   "outputs": [],
   "source": [
    "#In my AI guesser, I use Trigram. Instead of specified length, I separate the words to 5 degrees. For example, words length less than five share the same data, and length >=5, <=7 share another data. After adjusting the parameters, this method works better than Bigram Guesser. "
   ]
  },
  {
   "cell_type": "code",
   "execution_count": null,
   "metadata": {
    "collapsed": true,
    "deletable": true,
    "editable": true
   },
   "outputs": [],
   "source": []
  }
 ],
 "metadata": {
  "anaconda-cloud": {},
  "kernelspec": {
   "display_name": "Python 3",
   "language": "python",
   "name": "python3"
  },
  "language_info": {
   "codemirror_mode": {
    "name": "ipython",
    "version": 3
   },
   "file_extension": ".py",
   "mimetype": "text/x-python",
   "name": "python",
   "nbconvert_exporter": "python",
   "pygments_lexer": "ipython3",
   "version": "3.5.2"
  }
 },
 "nbformat": 4,
 "nbformat_minor": 1
}
